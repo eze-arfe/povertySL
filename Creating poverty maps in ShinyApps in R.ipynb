{
 "cells": [
  {
   "cell_type": "markdown",
   "id": "9edc655c",
   "metadata": {},
   "source": [
    "# Creating a poverty map using ShinyApps in R\n",
    "\n",
    "### This notebook is a step-by-step guide to create a heatmap in ShinyApps using real population data and available poverty data in Sierra Leone. "
   ]
  },
  {
   "cell_type": "markdown",
   "id": "80bc59d0",
   "metadata": {},
   "source": [
    "##### Before starting, make sure you have downloaded the following datasets\n",
    "##### 1. Population data from www.worldpop.org\n",
    "-  Click on Data > Population > Individual Countries\n",
    "-  Search for country\n",
    "-  Choose the most recent year available from the results and click “Data & Resources”\n",
    "-  Scroll down and click “Download Entire Dataset”\n",
    "-  *note- these files are normally about 80-90 MB- if your internet connection is poor, consider setting up the download to run overnight*\n",
    "\n",
    "##### 2. Getting the Poverty Data from http://dhsprogram.com\n",
    "-  If you haven’t already, register for access to DHS datasets at the DHS programme website\n",
    "-  Once granted access, log in and download the following survey datasets for the most recent standard DHS survey from your chosen country, and save them in your working directory along with the population data:\n",
    "    -  a. Individual recode > Stata dataset (This dataset only includes women aged 15-49)\n",
    "    -  b. Geographic data > Shapefile\n",
    "\n",
    "#### 3. Getting administrative data\n",
    "-  Go to Humanitarian Data Exchange- search “[country name] boundary.” In the results, find the zipped shapefile with all administrative levels, download it, unzip it, and save it on your computer."
   ]
  },
  {
   "cell_type": "code",
   "execution_count": 2,
   "id": "3c071a1c",
   "metadata": {},
   "outputs": [],
   "source": [
    "#I load the packages needed for the project\n",
    "library(shiny)\n",
    "library(haven)\n",
    "library(leaflet)\n",
    "library(raster)\n",
    "library(leaflet.extras)\n",
    "library(RColorBrewer)\n",
    "library(viridis)\n",
    "library(terra)\n",
    "library(sf)\n",
    "library(rgdal)\n"
   ]
  },
  {
   "cell_type": "markdown",
   "id": "2ed907d6",
   "metadata": {},
   "source": [
    "-  Open the 'Individual recode' Stata dataset. You now need to think about how you want to define “poor” in your population. If you’re not sure, we recommend defining all individuals in the bottom two wealth quintiles (Q1/2) as poor.You can do this by running the following code in R:"
   ]
  },
  {
   "cell_type": "code",
   "execution_count": 5,
   "id": "84481f48",
   "metadata": {},
   "outputs": [],
   "source": [
    "base <- read_dta(\"povertySL/poor.DTA\")"
   ]
  },
  {
   "cell_type": "markdown",
   "id": "874b7b6d",
   "metadata": {},
   "source": [
    "-  \"v190\" is the DHS variable for wealth quintile. Every individual below the quintile will be considered as poor"
   ]
  },
  {
   "cell_type": "code",
   "execution_count": null,
   "id": "590212a4",
   "metadata": {},
   "outputs": [],
   "source": [
    "base$q2 = ifelse(base$v190 <3, 1,0) "
   ]
  },
  {
   "cell_type": "markdown",
   "id": "4a66f3e0",
   "metadata": {},
   "source": [
    "-  I'll create an average for poor respondents in DHS for each cluster (v001 is the DHS cluster variable)"
   ]
  },
  {
   "cell_type": "code",
   "execution_count": null,
   "id": "5c265f9f",
   "metadata": {},
   "outputs": [],
   "source": [
    "tab1 <- aggregate(base$q2, list(base$v001), mean)"
   ]
  },
  {
   "cell_type": "markdown",
   "id": "3444e735",
   "metadata": {},
   "source": [
    "-  Now that I've created the variable, let's save this as a .csv file"
   ]
  },
  {
   "cell_type": "code",
   "execution_count": null,
   "id": "40de1401",
   "metadata": {},
   "outputs": [],
   "source": [
    "write.csv(tab1, \"poor.csv\")"
   ]
  },
  {
   "cell_type": "markdown",
   "id": "913df8fe",
   "metadata": {},
   "source": [
    "-  I now need to match this data with administrative data and location points. For this, I need to paste the lat and long from the DHS database for each cluster. It might be easier to do this using Excel: for this, I open the .dbf file, which contains coordinates for the clusters of DHS respondents. I copy and paste cluster locations to my database (poor.csv)\n",
    "-  I upload the database I created containing the location for each cluster"
   ]
  },
  {
   "cell_type": "code",
   "execution_count": 6,
   "id": "d813be35",
   "metadata": {},
   "outputs": [],
   "source": [
    "base <- read.csv(\"povertySL/poor.csv\",header= TRUE, sep= \",\", na.strings = \"N/A\")"
   ]
  },
  {
   "cell_type": "markdown",
   "id": "8a2f0f7a",
   "metadata": {},
   "source": [
    "-  Getting administrative data for my selected country, in this case, Sierra Leone"
   ]
  },
  {
   "cell_type": "code",
   "execution_count": 7,
   "id": "425b155a",
   "metadata": {},
   "outputs": [
    {
     "name": "stderr",
     "output_type": "stream",
     "text": [
      "Warning message:\n",
      "“OGR support is provided by the sf and terra packages among others”\n",
      "Warning message:\n",
      "“OGR support is provided by the sf and terra packages among others”\n",
      "Warning message:\n",
      "“OGR support is provided by the sf and terra packages among others”\n",
      "Warning message:\n",
      "“OGR support is provided by the sf and terra packages among others”\n",
      "Warning message:\n",
      "“OGR support is provided by the sf and terra packages among others”\n",
      "Warning message:\n",
      "“OGR support is provided by the sf and terra packages among others”\n"
     ]
    }
   ],
   "source": [
    "states <- readOGR(dsn = \"povertySL/sle_admbnda_adm2_1m_gov_ocha/sle_admbnda_adm2_1m_gov_ocha_20161017.shp\", \n",
    "                  layer = \"sle_admbnda_adm2_1m_gov_ocha_20161017\",GDAL1_integer64_policy = FALSE, verbose= FALSE)"
   ]
  },
  {
   "cell_type": "markdown",
   "id": "2c6d433c",
   "metadata": {},
   "source": [
    "-  I need to create a raster image that will be collated to the countries' boundariesand that will show the population density image that I downloaded from populationdata.org"
   ]
  },
  {
   "cell_type": "code",
   "execution_count": 9,
   "id": "b403534c",
   "metadata": {},
   "outputs": [],
   "source": [
    "r <- raster(\"povertySL/sle_admbnda_adm2_1m_gov_ocha/sle_ppp_2020_constrained.tif\")\n",
    "\n",
    "#### Given the size and time it takes for R to create a raster image, I downgrade the quality so it becomes faster\n",
    "r <- aggregate(r,10)"
   ]
  },
  {
   "cell_type": "markdown",
   "id": "de66dc7b",
   "metadata": {},
   "source": [
    "-  I now have prepared my raster image that will go into the map, let's do some design!<br> \n",
    "#### DESIGN<br> \n",
    "-  I set up the color palette for the population density raster"
   ]
  },
  {
   "cell_type": "code",
   "execution_count": 10,
   "id": "5cc687fc",
   "metadata": {},
   "outputs": [],
   "source": [
    "magma1<- rev(viridis(10))\n",
    "pal <- colorNumeric(\n",
    "  palette = magma1,\n",
    "  domain = values(r),\n",
    "  na.color = \"transparent\")\n",
    "pal1 <- colorNumeric(palette=\"Spectral\", domain = base$mean)\n",
    "\n"
   ]
  },
  {
   "cell_type": "markdown",
   "id": "6fe5844c",
   "metadata": {},
   "source": [
    "Pinpointing sites\n",
    "-  First, I create an icon that will be pinpointing teams' location. For this I use a person icon"
   ]
  },
  {
   "cell_type": "code",
   "execution_count": 12,
   "id": "bc910671",
   "metadata": {},
   "outputs": [],
   "source": [
    "msicon <- makeIcon(\n",
    "  iconUrl = \"povertySL/clinic.png\",\n",
    "  iconWidth = 20, iconHeight = 20\n",
    ")"
   ]
  },
  {
   "cell_type": "markdown",
   "id": "177be633",
   "metadata": {},
   "source": [
    "-  I upload a database with my fictional sites"
   ]
  },
  {
   "cell_type": "code",
   "execution_count": 13,
   "id": "d14a9447",
   "metadata": {},
   "outputs": [],
   "source": [
    "base1<- read.csv(\"povertySL/sites.csv\", header = TRUE, sep = \",\")"
   ]
  },
  {
   "cell_type": "markdown",
   "id": "7a71f479",
   "metadata": {},
   "source": [
    "### Starting the ShinyApp\n",
    "\n",
    "-  Define UI for application that shows a world map with a heat map for Sierra Leone"
   ]
  },
  {
   "cell_type": "code",
   "execution_count": 15,
   "id": "7bd6d8f4",
   "metadata": {},
   "outputs": [],
   "source": [
    "ui <- navbarPage(div(style='font-size: 14px;', \"Sierra Leone Poverty Map\"),\n",
    "                 windowTitle = \"Sierra Leone Poverty Map\",\n",
    "                 id=\"nav\",\n",
    "                 collapsible = TRUE,\n",
    "                 tabPanel(\"Interactive Results\",\n",
    "                          div(class=\"outer\",\n",
    "                              tags$head(\n",
    "                                includeCSS(\"povertySL/styles.css\")\n",
    "                              ),\n",
    "                              tags$style(type = \"text/css\", \"#map {height: calc(100vh - 0px) !important;}\"),\n",
    "                              leafletOutput(\"map\"),\n",
    "                              absolutePanel(id= \"controls1\", fixed = TRUE,\n",
    "                                            draggable = TRUE, top = \"85%\", left = \"1%\", right = \"1%\", bottom = \"auto\",\n",
    "                                            width = \"97%\", height = \"15%\",\n",
    "                                            plotOutput(\"violences\", width = \"100%\", height = \"100%\"))\n",
    "                              )\n",
    "                          )\n",
    "                 )\n",
    "\n"
   ]
  },
  {
   "cell_type": "markdown",
   "id": "47ebe9c5",
   "metadata": {},
   "source": [
    "-  Define server logic required to draw a histogram"
   ]
  },
  {
   "cell_type": "code",
   "execution_count": 16,
   "id": "abd9a05c",
   "metadata": {},
   "outputs": [],
   "source": [
    "server <- function(input, output) {\n",
    "  \n",
    "  \n",
    "  \n",
    "    output$map <- renderLeaflet(\n",
    "      leaflet()%>%\n",
    "        addTiles() %>%\n",
    "        addProviderTiles(\n",
    "          provider= 'Esri.WorldGrayCanvas',\n",
    "          group = \"ESRI\") %>%\n",
    "        addRasterImage(r,\n",
    "                       colors= pal,\n",
    "                       opacity= 0.8)%>%\n",
    "        addHeatmap(lng=base$long,lat=base$lat,intensity= base$mean2,max=1,radius=40, blur=60) %>%\n",
    "        addLegend(pal = pal1,\n",
    "                  values = base$mean,\n",
    "                  title= \"Poverty\",\n",
    "                  labFormat = labelFormat(transform = function(x) sort(x, decreasing = TRUE))) %>%\n",
    "        addMarkers(base1$long, base1$lat, icon = msicon)\n",
    "    )\n",
    "}\n",
    "\n"
   ]
  },
  {
   "cell_type": "markdown",
   "id": "48b40967",
   "metadata": {},
   "source": [
    "#### Run the application"
   ]
  },
  {
   "cell_type": "code",
   "execution_count": null,
   "id": "26a2fb33",
   "metadata": {
    "scrolled": true
   },
   "outputs": [
    {
     "name": "stderr",
     "output_type": "stream",
     "text": [
      "\n",
      "Listening on http://127.0.0.1:5317\n",
      "\n"
     ]
    }
   ],
   "source": [
    "shinyApp(ui = ui, server = server)"
   ]
  }
 ],
 "metadata": {
  "kernelspec": {
   "display_name": "R",
   "language": "R",
   "name": "ir"
  },
  "language_info": {
   "codemirror_mode": "r",
   "file_extension": ".r",
   "mimetype": "text/x-r-source",
   "name": "R",
   "pygments_lexer": "r",
   "version": "4.2.2"
  }
 },
 "nbformat": 4,
 "nbformat_minor": 5
}
